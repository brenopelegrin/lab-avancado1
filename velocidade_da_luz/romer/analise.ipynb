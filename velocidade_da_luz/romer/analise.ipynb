{
 "cells": [
  {
   "cell_type": "markdown",
   "id": "47856a71",
   "metadata": {},
   "source": [
    "## Calcula velocidade da luz"
   ]
  },
  {
   "cell_type": "code",
   "execution_count": 182,
   "id": "1c46be30",
   "metadata": {},
   "outputs": [],
   "source": [
    "from datetime import datetime,timedelta\n",
    "import math\n",
    "\n",
    "def velocidade_da_luz(t1:datetime,d1_UA:float,t2:datetime,\n",
    "                      d2_UA:float,dias_diff:tuple[datetime,datetime],\n",
    "                      PERIODO_IO:timedelta=timedelta(days=1.769861))->float:\n",
    "    UA=1.496e+8\n",
    "    revoluções=math.floor(abs(dias_diff[0]-dias_diff[1])/PERIODO_IO) \n",
    "    print(f\"{revoluções=}\")\n",
    "    t2_previsto=t1+revoluções*PERIODO_IO\n",
    "    print(f\"eclipse_previsto : {t2_previsto}\")\n",
    "    print(f\"eclipse_observado : {t2}\")\n",
    "    delta_tempo=abs(t2-t2_previsto).total_seconds()\n",
    "    delta_s=abs(UA*(d2_UA-d1_UA))\n",
    "    print(f\"delta_tempo = {delta_tempo/60:.2f} minutos\")\n",
    "    print(f\"delta_s = {delta_s/UA:.5f} UA\") \n",
    "    c=(delta_s/delta_tempo)\n",
    "    print(f\"c={c/1e5:.2f} x 10⁵ km/s\")"
   ]
  },
  {
   "cell_type": "markdown",
   "id": "b6186642",
   "metadata": {},
   "source": [
    "## Vídeo"
   ]
  },
  {
   "cell_type": "code",
   "execution_count": 189,
   "id": "88be1549",
   "metadata": {},
   "outputs": [
    {
     "name": "stdout",
     "output_type": "stream",
     "text": [
      "revoluções=46\n",
      "eclipse_previsto : 2021-07-20 02:40:35.558400\n",
      "eclipse_observado : 2021-07-20 02:32:52\n",
      "delta_tempo = 7.73 minutos\n",
      "delta_s = 1.13491 UA\n",
      "c=3.66 x 10⁵ km/s\n"
     ]
    }
   ],
   "source": [
    "velocidade_da_luz(datetime(day=29,month=4,year=2021,hour=16,minute=45,second=0),\n",
    "                  5.28727,\n",
    "                  datetime(day=20,month=7,year=2021,hour=2,minute=32,second=52),\n",
    "                  4.15236,[datetime(day=20,month=7,year=2021),datetime(day=29,month=4,year=2021)])"
   ]
  },
  {
   "cell_type": "code",
   "execution_count": 187,
   "id": "d31598e0",
   "metadata": {},
   "outputs": [
    {
     "name": "stdout",
     "output_type": "stream",
     "text": [
      "revoluções=51\n",
      "eclipse_previsto : 2008-05-30 23:32:37.740210\n",
      "eclipse_observado : 2008-05-31 00:11:35\n",
      "delta_tempo = 38.95 minutos\n",
      "delta_s = 1.32636 UA\n",
      "c=0.85 x 10⁵ km/s\n"
     ]
    }
   ],
   "source": [
    "velocidade_da_luz(t1=datetime(day=1,month=3,year=2008,hour=18,minute=7,second=9),\n",
    "                  d1_UA=5.71785,\n",
    "                  t2=datetime(day=31,month=5,year=2008,hour=00,minute=11,second=35),\n",
    "                  d2_UA=4.39149,\n",
    "                  dias_diff=[datetime(day=31,month=5,year=2008),datetime(day=1,month=3,year=2008)],\n",
    "                  PERIODO_IO=timedelta(days=1.769137786))\n"
   ]
  }
 ],
 "metadata": {
  "kernelspec": {
   "display_name": "velocidade-da-luz (3.12.11)",
   "language": "python",
   "name": "python3"
  },
  "language_info": {
   "codemirror_mode": {
    "name": "ipython",
    "version": 3
   },
   "file_extension": ".py",
   "mimetype": "text/x-python",
   "name": "python",
   "nbconvert_exporter": "python",
   "pygments_lexer": "ipython3",
   "version": "3.12.11"
  }
 },
 "nbformat": 4,
 "nbformat_minor": 5
}
