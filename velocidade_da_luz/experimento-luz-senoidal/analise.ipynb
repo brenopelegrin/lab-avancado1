{
 "cells": [
  {
   "cell_type": "code",
   "execution_count": 93,
   "id": "8f4b9b2d-eb37-45a2-ad09-4256bb646cc3",
   "metadata": {},
   "outputs": [],
   "source": [
    "import pandas as pd\n",
    "import LabIFSC2 as lab\n",
    "import matplotlib.pyplot as plt\n",
    "import numpy as np\n",
    "import math"
   ]
  },
  {
   "cell_type": "markdown",
   "id": "71e864ae-1968-454c-95fb-7d3ad79687c2",
   "metadata": {},
   "source": [
    "## Carrega dados e define constantes"
   ]
  },
  {
   "cell_type": "code",
   "execution_count": 123,
   "id": "136bfeda-f1cf-495f-8800-0d646af2b4c9",
   "metadata": {},
   "outputs": [],
   "source": [
    "ar_file_path = './dados_bons/ar_lente_boa/dados.txt'\n",
    "vidro_file_path = './dados_bons/vidro_lente_boa/dados.txt'\n",
    "nu = lab.Medida(60, 'MHz', 0)\n",
    "\n",
    "def get_data(path: str):\n",
    "    data = pd.read_csv(file_path, sep=',')\n",
    "    print(f\"Raw data: \\n{data}\")\n",
    "    processed_data = {\n",
    "        \"d_cm\": [(100.0 - d_metal + 12.7) for d_metal in data[\"d_metal\"]],\n",
    "        \"phase_deg\": [phi for phi in data[\"fase\"]]\n",
    "    }\n",
    "    new_df = pd.DataFrame(data=processed_data)\n",
    "    new_df.loc[1:,'d_cm'] = abs(new_df.loc[1:, 'd_cm'] - new_df['d_cm'].iloc[0])\n",
    "    new_df.loc[1:,'phase_deg'] = abs(new_df.loc[1:, 'phase_deg'] - new_df['phase_deg'].iloc[0])\n",
    "    new_df = new_df.loc[1:, :]\n",
    "    new_df['d_cm'] = new_df['d_cm'].apply(lambda x: x*0.01)\n",
    "    new_df = new_df.rename(columns={\"d_cm\": \"d_m\"})\n",
    "    \n",
    "    return new_df"
   ]
  },
  {
   "cell_type": "markdown",
   "id": "c04dbc31-274f-4025-9243-7a7a28d4f2b5",
   "metadata": {},
   "source": [
    "## Velocidade da luz no Ar"
   ]
  },
  {
   "cell_type": "code",
   "execution_count": 122,
   "id": "65a55907-d5ee-4316-882c-3498ef778764",
   "metadata": {},
   "outputs": [
    {
     "name": "stdout",
     "output_type": "stream",
     "text": [
      "Raw data: \n",
      "   d_metal  fase\n",
      "0     10.5  81.7\n",
      "1     20.5  73.1\n",
      "2     30.5  65.1\n",
      "3     40.5  59.2\n",
      "4     50.5  53.6\n",
      "5     60.5  46.1\n",
      "6     70.5  39.6\n",
      "7     80.5  32.0\n",
      "8     90.5  22.2\n",
      "\n",
      "Velocidades da luz para o Ar com a lente boa:\n",
      "(2,5 ± 0,3)x10⁸ m/s\n",
      "(2,6 ± 0,1)x10⁸ m/s\n",
      "(2,88 ± 0,10)x10⁸ m/s\n",
      "(3,07 ± 0,08)x10⁸ m/s\n",
      "(3,03 ± 0,06)x10⁸ m/s\n",
      "(3,08 ± 0,05)x10⁸ m/s\n",
      "(3,04 ± 0,04)x10⁸ m/s\n",
      "(2,90 ± 0,04)x10⁸ m/s\n",
      "\n",
      "Velocidade da luz no ar (média): (2,89 ± 0,04)x10⁸ m/s\n",
      "\n"
     ]
    },
    {
     "data": {
      "text/plain": [
       "Text(0.5, 1.0, 'Velocidade da luz no ar')"
      ]
     },
     "execution_count": 122,
     "metadata": {},
     "output_type": "execute_result"
    },
    {
     "data": {
      "image/png": "[encoded data removed]",
      "text/plain": [
       "<Figure size 640x480 with 1 Axes>"
      ]
     },
     "metadata": {},
     "output_type": "display_data"
    }
   ],
   "source": [
    "data_ar = get_data(file_path)\n",
    "data_ar\n",
    "\n",
    "distancias = [lab.Medida(x, 'm', 0.01) for x in data_ar['d_m'].to_list()]\n",
    "fases = [lab.Medida(x, 'deg', 0.1) for x in data_ar['phase_deg'].to_list()]\n",
    "velocidades_ar = []\n",
    "\n",
    "print(\"\\nVelocidades da luz para o Ar com a lente boa:\")\n",
    "for i, delta_s in enumerate(distancias):\n",
    "    delta_phi = fases[i]\n",
    "    c = (delta_s/delta_phi) * 2 * math.pi * nu\n",
    "    velocidades_ar.append(c)\n",
    "    print(f\"{c:m/s}\")\n",
    "print(f\"\\nVelocidade da luz no ar (média): {np.mean(np.array(velocidades_ar)):m/s}\\n\")\n",
    "\n",
    "f1, ax1 = plt.subplots()\n",
    "\n",
    "ax1.scatter(lab.nominais(np.array(distancias), 'm'), lab.nominais(np.array(velocidades_ar), 'm/s'))\n",
    "ax1.set_xlabel(\"$\\\\Delta S$ (m)\")\n",
    "ax1.set_ylabel(\"Velocidade da luz no ar ($10^{8}$ m/s)\")\n",
    "ax1.set_title(\"Velocidade da luz no ar\")"
   ]
  },
  {
   "cell_type": "markdown",
   "id": "0d852535-3474-45d8-ad8b-f679a0f60262",
   "metadata": {},
   "source": [
    "## Velocidade da luz no vidro"
   ]
  },
  {
   "cell_type": "code",
   "execution_count": null,
   "id": "e7339a3f-e6e3-4728-b6e1-d828aad45ee0",
   "metadata": {},
   "outputs": [],
   "source": [
    "# TODO"
   ]
  }
 ],
 "metadata": {
  "kernelspec": {
   "display_name": "Python 3 (ipykernel)",
   "language": "python",
   "name": "python3"
  },
  "language_info": {
   "codemirror_mode": {
    "name": "ipython",
    "version": 3
   },
   "file_extension": ".py",
   "mimetype": "text/x-python",
   "name": "python",
   "nbconvert_exporter": "python",
   "pygments_lexer": "ipython3",
   "version": "3.11.11"
  }
 },
 "nbformat": 4,
 "nbformat_minor": 5
}
