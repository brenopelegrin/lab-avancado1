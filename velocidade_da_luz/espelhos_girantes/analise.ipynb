{
 "cells": [
  {
   "cell_type": "markdown",
   "id": "a4ad660c-c59e-4f13-966d-18fb905f5777",
   "metadata": {},
   "source": [
    "## Imports"
   ]
  },
  {
   "cell_type": "code",
   "execution_count": 5,
   "id": "4527f4a8-f61c-43dc-b350-47c032e9051f",
   "metadata": {},
   "outputs": [],
   "source": [
    "import numpy as np\n",
    "import pandas as pd"
   ]
  },
  {
   "cell_type": "markdown",
   "id": "539a5d96-6de5-4f1b-b2cb-026659692150",
   "metadata": {},
   "source": [
    "## Get the raw data"
   ]
  },
  {
   "cell_type": "code",
   "execution_count": 24,
   "id": "250a2e22-4b6d-4b8f-9109-8fc65cbbe496",
   "metadata": {},
   "outputs": [],
   "source": [
    "file_path = './luz_pulsada_dados.csv'\n",
    "def processed_data(file_path):\n",
    "    data = pd.read_csv(file_path, delimiter='\\t')\n",
    "    data['pos'] = data['pos'] - data['pos'].iloc[0]\n",
    "    data['freq'] = data['freq']/2\n",
    "    return data\n",
    "\n",
    "data = processed_data(file_path)"
   ]
  },
  {
   "cell_type": "markdown",
   "id": "c1fa3655-a0f0-486e-927e-a0d8b491d73f",
   "metadata": {},
   "source": [
    "## Get the mean frequency for each bin of position"
   ]
  },
  {
   "cell_type": "code",
   "execution_count": 25,
   "id": "b9759a30-8e03-4025-9884-0bbbbd1e1a5c",
   "metadata": {},
   "outputs": [],
   "source": [
    "mean_freq = data.groupby('pos')['freq'].mean()"
   ]
  },
  {
   "cell_type": "code",
   "execution_count": 26,
   "id": "87d7e048-0578-407b-abdc-230faccbe2ea",
   "metadata": {},
   "outputs": [
    {
     "data": {
      "text/plain": [
       "pos\n",
       "-0.45    545.000000\n",
       "-0.40    499.000000\n",
       "-0.35    442.166667\n",
       "-0.30    399.250000\n",
       "-0.25    350.125000\n",
       "-0.20    297.875000\n",
       "-0.15    236.500000\n",
       "-0.10    176.875000\n",
       "-0.05    125.333333\n",
       " 0.00     66.928571\n",
       "Name: freq, dtype: float64"
      ]
     },
     "execution_count": 26,
     "metadata": {},
     "output_type": "execute_result"
    }
   ],
   "source": [
    "mean_freq"
   ]
  },
  {
   "cell_type": "code",
   "execution_count": null,
   "id": "4c9176d5-ebab-47fc-8376-2be023da318a",
   "metadata": {},
   "outputs": [],
   "source": []
  }
 ],
 "metadata": {
  "kernelspec": {
   "display_name": "Python 3 (ipykernel)",
   "language": "python",
   "name": "python3"
  },
  "language_info": {
   "codemirror_mode": {
    "name": "ipython",
    "version": 3
   },
   "file_extension": ".py",
   "mimetype": "text/x-python",
   "name": "python",
   "nbconvert_exporter": "python",
   "pygments_lexer": "ipython3",
   "version": "3.13.5"
  }
 },
 "nbformat": 4,
 "nbformat_minor": 5
}
